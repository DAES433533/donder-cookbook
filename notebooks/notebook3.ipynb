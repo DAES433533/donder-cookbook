{
 "cells": [
  {
   "cell_type": "markdown",
   "metadata": {},
   "source": [
    "# Visualizing Air Quality with AQS API"
   ]
  },
  {
   "cell_type": "markdown",
   "metadata": {},
   "source": [
    "---"
   ]
  },
  {
   "cell_type": "markdown",
   "metadata": {},
   "source": [
    "## Overview\n",
    "In this notebook, we will explore the process of visualizing air pollution data using the EPA's Air Quality System (AQS) API. Our focus will be on plotting the data over a map and potentially incorporating wind velocities.\n",
    "\n",
    "1. Load the  datafiles for the particular time period into Pandas DataFrames.\n",
    "\n",
    "2. Examine and modify the structure of the DataFrame.\n",
    "\n",
    "3. Rename the columns appropriately.\n",
    "\n",
    "4. Merge the dataframes.\n",
    "\n",
    "5. Concatenation (if necessary).\n",
    "\n",
    "6. Geospatial Visualization.\n",
    "\n",
    "7. Adding the wind velocities over the map. (cont)\n",
    "\n",
    "8. Saving the figures.\n"
   ]
  },
  {
   "cell_type": "markdown",
   "metadata": {},
   "source": [
    "## Prerequisites\n",
    "\n",
    "\n",
    "| Concepts | Importance | Notes |\n",
    "| --- | --- | --- |\n",
    "|Intro to Pandas| Necessary |Should know how to load data into Pandas. |\n",
    "|Intro to Geopandas| Necessary | Familiarity with Geopandas for geospatial data visualization. |\n",
    "| Basics of Matplotlib| Necessary|Matplotlib for creating static, animated, and interactive visualizations. |\n",
    "|Cartopy basics| Necessary | Cartopy for mapping data on different projections. |\n",
    "\n",
    "- **Time to learn**: to be added.\n",
    "- **System requirements**: to be added "
   ]
  },
  {
   "cell_type": "markdown",
   "metadata": {},
   "source": [
    "---"
   ]
  },
  {
   "cell_type": "markdown",
   "metadata": {},
   "source": [
    "## Imports\n"
   ]
  },
  {
   "cell_type": "code",
   "execution_count": 1,
   "metadata": {},
   "outputs": [
    {
     "name": "stdout",
     "output_type": "stream",
     "text": [
      "Available kernels:\n",
      "  python3    /knight/anaconda_aug22/envs/jhub_aug22/share/jupyter/kernels/python3\n",
      "  aug21      /usr/local/share/jupyter/kernels/aug21\n",
      "  aug22      /usr/local/share/jupyter/kernels/aug22\n",
      "  aug23      /usr/local/share/jupyter/kernels/aug23\n",
      "  devel      /usr/local/share/jupyter/kernels/devel\n",
      "  ir         /usr/local/share/jupyter/kernels/ir\n",
      "  jan21      /usr/local/share/jupyter/kernels/jan21\n",
      "  jun20      /usr/local/share/jupyter/kernels/jun20\n",
      "  mar19      /usr/local/share/jupyter/kernels/mar19\n",
      "  python2    /usr/local/share/jupyter/kernels/python2\n",
      "  sep23      /usr/local/share/jupyter/kernels/sep23\n"
     ]
    }
   ],
   "source": [
    "!jupyter kernelspec list"
   ]
  },
  {
   "cell_type": "code",
   "execution_count": 2,
   "metadata": {},
   "outputs": [],
   "source": [
    "#import pandas as pd\n",
    "#import geopandas as gpd\n",
    "#import matplotlib.pyplot as plt\n",
    "#import cartopy.crs as ccrs\n",
    "#import netCDF4 as nc\n"
   ]
  },
  {
   "cell_type": "markdown",
   "metadata": {},
   "source": [
    "##  Content section"
   ]
  },
  {
   "cell_type": "markdown",
   "metadata": {},
   "source": [
    "#to be added"
   ]
  },
  {
   "cell_type": "markdown",
   "metadata": {},
   "source": [
    "## Summary\n",
    "#to be added"
   ]
  },
  {
   "cell_type": "markdown",
   "metadata": {},
   "source": [
    "## Resources and references\n"
   ]
  },
  {
   "cell_type": "code",
   "execution_count": null,
   "metadata": {},
   "outputs": [],
   "source": [
    "# to be added"
   ]
  }
 ],
 "metadata": {
  "kernelspec": {
   "display_name": "Air Quality Environment",
   "language": "python",
   "name": "aq"
  },
  "language_info": {
   "codemirror_mode": {
    "name": "ipython",
    "version": 3
   },
   "file_extension": ".py",
   "mimetype": "text/x-python",
   "name": "python",
   "nbconvert_exporter": "python",
   "pygments_lexer": "ipython3",
   "version": "3.12.0"
  },
  "nbdime-conflicts": {
   "local_diff": [
    {
     "diff": [
      {
       "diff": [
        {
         "key": 0,
         "op": "addrange",
         "valuelist": [
          "Python 3"
         ]
        },
        {
         "key": 0,
         "length": 1,
         "op": "removerange"
        }
       ],
       "key": "display_name",
       "op": "patch"
      }
     ],
     "key": "kernelspec",
     "op": "patch"
    }
   ],
   "remote_diff": [
    {
     "diff": [
      {
       "diff": [
        {
         "key": 0,
         "op": "addrange",
         "valuelist": [
          "Python3"
         ]
        },
        {
         "key": 0,
         "length": 1,
         "op": "removerange"
        }
       ],
       "key": "display_name",
       "op": "patch"
      }
     ],
     "key": "kernelspec",
     "op": "patch"
    }
   ]
  },
  "toc-autonumbering": false
 },
 "nbformat": 4,
 "nbformat_minor": 4
}
