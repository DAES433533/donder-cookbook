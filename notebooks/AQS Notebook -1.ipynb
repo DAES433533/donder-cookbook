{
 "cells": [
  {
   "cell_type": "markdown",
   "metadata": {},
   "source": [
    "<img src=\"images/ProjectPythia_Logo_Final-01-Blue.svg\" width=300 alt=\"Project Pythia Logo\"></img>\n",
    "\n",
    "\n",
    "This link is problematic...\n",
    "\n",
    "\n",
    "```<img src=\"https://www.epa.gov/themes/epa_theme/images/epa-seal.svg\" width = 300 alt=\"US EPA Logo\">```\n"
   ]
  },
  {
   "cell_type": "markdown",
   "metadata": {},
   "source": [
    "# Visualizing Data with EPA's Air Quality System (AQS) API"
   ]
  },
  {
   "cell_type": "markdown",
   "metadata": {},
   "source": [
    "---"
   ]
  },
  {
   "cell_type": "markdown",
   "metadata": {},
   "source": [
    "## Overview\n",
    "Air quality data are an important aspect of both atmospheric and environmental sciences. Understanding the concentrations of particulate matter and chemical species (e.g., O<sub>3</sub> and NO<sub>x</sub>) can be useful for air pollution analysis from both the physical science and health science perspectives.\n",
    "\n",
    "The US EPA AQS has archived data that have gone through quality assurance.\n",
    "\n",
    "In this notebook, we will cover:\n",
    "1. Accessing data from the AQS\n",
    "1. Exploring the format of the data\n",
    "1. Preparing the data for visualization\n",
    "1. Generating a timeseries plot"
   ]
  },
  {
   "cell_type": "markdown",
   "metadata": {
    "tags": []
   },
   "source": [
    "## Prerequisites\n",
    "\n",
    "| Concepts | Importance | Notes |\n",
    "| --- | --- | --- |\n",
    "| [Introduction to Pandas](https://foundations.projectpythia.org/core/pandas/pandas.html) | Necessary | How to deal with dataframes and datasets |\n",
    "| [Matplotlib Basics](https://foundations.projectpythia.org/core/matplotlib/matplotlib-basics.html) | Helpful | Skills for different plotting styles and techniques |\n",
    "| Project management | Helpful | |\n",
    "\n",
    "- **Time to learn**: 525,600 minutes (<b><i>estimation might not be accurate</i></b>)\n",
    "- **System requirements**:\n",
    "    - Turing Air Quality Environment Kernel (Or install the package from [GitHub](https://github.com/USEPA/pyaqsapi#readme))\n",
    "    - Email address for AQS access (It's the government...)"
   ]
  },
  {
   "cell_type": "markdown",
   "metadata": {},
   "source": [
    "---"
   ]
  },
  {
   "cell_type": "markdown",
   "metadata": {
    "tags": []
   },
   "source": [
    "## Imports\n",
    "\n",
    "\n",
    "<div class=\"admonition alert alert-info\">\n",
    "    <p class=\"admonition-title\" style=\"font-weight:bold\">Info</p>\n",
    "Here we'll import lots of stuff, but we might not end up using them all...\n",
    "</div"
   ]
  },
  {
   "cell_type": "code",
   "execution_count": null,
   "metadata": {},
   "outputs": [],
   "source": [
    "import matplotlib.pyplot as plt\n",
    "import pandas as pd\n",
    "from datetime import date\n",
    "from datetime import datetime\n",
    "import numpy as np\n",
    "import pyaqsapi as aqs\n",
    "\n",
    "# Due to an error in the pyaqsapi package for aqs_bybox:\n",
    "import requests"
   ]
  },
  {
   "cell_type": "markdown",
   "metadata": {
    "tags": []
   },
   "source": [
    "## Accessing data from the AQS"
   ]
  },
  {
   "cell_type": "markdown",
   "metadata": {},
   "source": [
    "<div class=\"admonition alert alert-warning\">\n",
    "    <p class=\"admonition-title\" style=\"font-weight:bold\">Important:</p>\n",
    "If you have previously registered an account with the AQS, now will be a good time to get that information out.\n",
    "\n",
    "If not, you should have an email address in mind that you'd like to use.\n",
    "</div>"
   ]
  },
  {
   "cell_type": "markdown",
   "metadata": {},
   "source": [
    "### Register a new email with aqs_sign_up\n",
    "\n",
    "Remove the comment # and replace 'EMAIL' in the code below with an email address to use for credentials."
   ]
  },
  {
   "cell_type": "code",
   "execution_count": null,
   "metadata": {
    "tags": []
   },
   "outputs": [],
   "source": [
    "aqs.aqs_sign_up('EMAIL')"
   ]
  },
  {
   "cell_type": "markdown",
   "metadata": {},
   "source": [
    "<div class=\"admonition alert alert-success\">\n",
    "    <p class=\"admonition-title\" style=\"font-weight:bold\">Success</p>\n",
    "A verification email should have been sent. Click the link in the email to verify your account.\n",
    "</div>"
   ]
  },
  {
   "cell_type": "markdown",
   "metadata": {},
   "source": [
    "#### Data can be pulled from the AQS in a number of different ways...\n",
    "1. By Sample Site\n",
    "1. By County\n",
    "1. By State\n",
    "1. By Lat/Long Box\n",
    "1. By Monitoring Agency\n",
    "1. By Primary Quality Assurance Organization\n",
    "1. By Core Based Statistical Aera( as defined by the US Census Bureau)"
   ]
  },
  {
   "cell_type": "markdown",
   "metadata": {},
   "source": [
    "### Let's look at how the package deals with states..."
   ]
  },
  {
   "cell_type": "code",
   "execution_count": null,
   "metadata": {
    "tags": []
   },
   "outputs": [],
   "source": [
    "aqs.aqs_states()"
   ]
  },
  {
   "cell_type": "markdown",
   "metadata": {
    "tags": []
   },
   "source": [
    "<div class=\"admonition alert alert-danger\">\n",
    "    <p class=\"admonition-title\" style=\"font-weight:bold\">Whoops!</p>\n",
    "    You need to input your credentials before any of the functions will work!\n",
    "</div>"
   ]
  },
  {
   "cell_type": "markdown",
   "metadata": {},
   "source": [
    "##### Use the aqs_credentials function to input your username (your email address) and access key.\n",
    "<b>This is all found in the email you received when verifying your email address.</b>\n",
    "If you've previously registered your address and do not have the key, you can simply generate a new key by using the aqs_sign_up funtion to resubmit your email address."
   ]
  },
  {
   "cell_type": "markdown",
   "metadata": {},
   "source": [
    "*Let's also save our username and key as variables that we can easily call later.*"
   ]
  },
  {
   "cell_type": "code",
   "execution_count": null,
   "metadata": {
    "tags": []
   },
   "outputs": [],
   "source": [
    "username = ''\n",
    "key = ''"
   ]
  },
  {
   "cell_type": "code",
   "execution_count": null,
   "metadata": {
    "tags": []
   },
   "outputs": [],
   "source": [
    "aqs.aqs_credentials(username=username, key=key)\n",
    "#This notebook will fail a run test because there is no email address or credentials key in this cell.\n",
    "#Please input your own information to proceed."
   ]
  },
  {
   "cell_type": "markdown",
   "metadata": {},
   "source": [
    "### Let's look at those states now..."
   ]
  },
  {
   "cell_type": "code",
   "execution_count": null,
   "metadata": {
    "tags": []
   },
   "outputs": [],
   "source": [
    "aqs.aqs_states()"
   ]
  },
  {
   "cell_type": "markdown",
   "metadata": {},
   "source": [
    "<b>Since states will be input via a number, let's store this as a variable that we can call on later to remind ourselves of what states we need.</b>\n",
    "\n",
    "Let's assume for now that we want to focus on New York and also save that code as variable."
   ]
  },
  {
   "cell_type": "code",
   "execution_count": null,
   "metadata": {
    "tags": []
   },
   "outputs": [],
   "source": [
    "states = aqs.aqs_states()\n",
    "NY = 36"
   ]
  },
  {
   "cell_type": "markdown",
   "metadata": {},
   "source": [
    "<div class=\"admonition alert alert-danger\">\n",
    "    <p class=\"admonition-title\" style=\"font-weight:bold\">Everything Is Currently Input Numerically</p>\n",
    "    It's important that we also address the fact that, currently, everything is input as a numerical value for pulling these data from the AQS with this Python package.\n",
    "</div>\n",
    "\n",
    "Parameter Codes can be accessed from the EPA [here](https://aqs.epa.gov/aqsweb/documents/codetables/parameters.html), but to simplify things here are codes for a few common pollutants with defined Air Quality Index values you might be looking for...\n",
    "\n",
    "| Pollutant | Parameter Code |\n",
    "| --- | --- |\n",
    "| Carbon Monoxide (CO) | 42101 |\n",
    "| Nitrogen Dioxide (NO<sub>2</sub>) | 42602 |\n",
    "| Ozone (O<sub>3</sub>) | 44201 |\n",
    "| PM 10 (Total) | 81102 |  "
   ]
  },
  {
   "cell_type": "markdown",
   "metadata": {},
   "source": [
    "##### Let's also store the parameter codes as variables to make things more simple."
   ]
  },
  {
   "cell_type": "code",
   "execution_count": null,
   "metadata": {
    "tags": []
   },
   "outputs": [],
   "source": [
    "CO = 42101\n",
    "NO2 = 42602\n",
    "O3 = 44201\n",
    "PM10 = 81102"
   ]
  },
  {
   "cell_type": "markdown",
   "metadata": {},
   "source": [
    "---"
   ]
  },
  {
   "cell_type": "markdown",
   "metadata": {
    "tags": []
   },
   "source": [
    "## Exploring the format of the data"
   ]
  },
  {
   "cell_type": "markdown",
   "metadata": {},
   "source": [
    "Let's look at current O<sub>3</sub> data for New York State."
   ]
  },
  {
   "cell_type": "code",
   "execution_count": null,
   "metadata": {
    "tags": []
   },
   "outputs": [],
   "source": [
    "now = datetime.today()\n",
    "year = now.year\n",
    "month = now.month\n",
    "day = now.day\n",
    "print(year, month, day)"
   ]
  },
  {
   "cell_type": "markdown",
   "metadata": {
    "tags": []
   },
   "source": [
    "<div class=\"admonition alert alert-warning\">\n",
    "    <p class=\"admonition-title\" style=\"font-weight:bold\">Warning</p>\n",
    "    The AQS does not have real-time data. Also, note that the above date is in UTC!\n",
    "</div>"
   ]
  },
  {
   "cell_type": "markdown",
   "metadata": {
    "tags": []
   },
   "source": [
    "We'll subtract one day so we have the past day of data."
   ]
  },
  {
   "cell_type": "code",
   "execution_count": null,
   "metadata": {
    "tags": []
   },
   "outputs": [],
   "source": [
    "ozone = aqs.bystate.sampledata(parameter= O3, bdate = date(year=year, month=month, day = day-1), edate = date(year=year, month=month, day = day), stateFIPS=NY)"
   ]
  },
  {
   "cell_type": "code",
   "execution_count": null,
   "metadata": {
    "tags": []
   },
   "outputs": [],
   "source": [
    "ozone"
   ]
  },
  {
   "cell_type": "markdown",
   "metadata": {},
   "source": [
    "<div class=\"admonition alert alert-danger\">\n",
    "    <p class=\"admonition-title\" style=\"font-weight:bold\">Oh, no!</p>\n",
    "    Looks like there isn't current O<sub>3</sub> data available. We must go even further back in time. \n",
    "</div>"
   ]
  },
  {
   "cell_type": "code",
   "execution_count": null,
   "metadata": {
    "tags": []
   },
   "outputs": [],
   "source": [
    "ozone = aqs.bystate.sampledata(parameter= O3, bdate = date(year=year-1, month=month, day = day-1), edate = date(year=year-1, month=month, day = day), stateFIPS=NY)"
   ]
  },
  {
   "cell_type": "code",
   "execution_count": null,
   "metadata": {
    "tags": []
   },
   "outputs": [],
   "source": [
    "ozone"
   ]
  },
  {
   "cell_type": "markdown",
   "metadata": {},
   "source": [
    "Great! Now we have some data. Let's look at the columns."
   ]
  },
  {
   "cell_type": "code",
   "execution_count": null,
   "metadata": {
    "tags": []
   },
   "outputs": [],
   "source": [
    "ozone.columns"
   ]
  },
  {
   "cell_type": "markdown",
   "metadata": {},
   "source": [
    "<b>There is a lot of information in this dataset.</b>\n",
    "\n",
    "1. Geospatial Information\n",
    "    \n",
    "1. Temporal Information\n",
    "    \n",
    "1. Sample Information\n",
    "    \n",
    "1. Data QA Information\n",
    "\n",
    "<div class=\"admonition alert alert-info\">\n",
    "    <p class=\"admonition-title\" style=\"font-weight:bold\"> We'll focus on a few from 1, 2, and 3:</p>\n",
    "        <b>Latitude</b> and <b>Longitude</b> can be used to plot these data over a map, which will be addressed in <i>Notebook 3 of this Cook-Book</i>.<p>\n",
    "    <p>\n",
    "        <b>Local Date</b> and <b>Time</b>, as well as <b>State</b>, <b>County</b>, and <b>Site Number</b> can be used as to isolate data for a time-series.\n",
    "    <p>\n",
    "        <b>Units of Measure</b> will be necessary for annotations and labels.\n",
    "</div>"
   ]
  },
  {
   "cell_type": "markdown",
   "metadata": {},
   "source": [
    "Now, let's see when the O<sub>3</sub> data end for the set we've pulled."
   ]
  },
  {
   "cell_type": "code",
   "execution_count": null,
   "metadata": {
    "tags": []
   },
   "outputs": [],
   "source": [
    "print(\"End Date: \", ozone['date_local'].max())"
   ]
  },
  {
   "cell_type": "markdown",
   "metadata": {
    "tags": []
   },
   "source": [
    "<div class=\"admonition alert alert-info\">\n",
    "    <p class=\"admonition-title\" style=\"font-weight:bold\">PAUSE</p>\n",
    "    We've seen how to pull the data, and we've seen that pulling current data is not possible every time.<p>\n",
    "    <p>Let's look at this month's data from last year.\n",
    "</div>"
   ]
  },
  {
   "cell_type": "code",
   "execution_count": null,
   "metadata": {
    "tags": []
   },
   "outputs": [],
   "source": [
    "start = 1\n",
    "end = 30"
   ]
  },
  {
   "cell_type": "code",
   "execution_count": null,
   "metadata": {
    "tags": []
   },
   "outputs": [],
   "source": [
    "ozone = aqs.bystate.sampledata(parameter= O3, bdate = date(year=year-1, month=month, day = start), edate = date(year=year-1, month=month, day = end), stateFIPS=NY)\n",
    "ozone"
   ]
  },
  {
   "cell_type": "markdown",
   "metadata": {},
   "source": [
    "A quick check at plotting the data in its original format shows that some polishing is necessary."
   ]
  },
  {
   "cell_type": "code",
   "execution_count": null,
   "metadata": {
    "tags": []
   },
   "outputs": [],
   "source": [
    "plt.plot(ozone['date_local'], ozone['sample_measurement'], '.')"
   ]
  },
  {
   "cell_type": "markdown",
   "metadata": {},
   "source": [
    "<div class=\"admonition alert alert-warning\">\n",
    "    <p class=\"admonition-title\" style=\"font-weight:bold\">Spatiotemporal Issues Abound!</p>\n",
    "    It looks like the primary hiccups in trying to plot these data are the fact that the DataFrame has a separate column for date and time, and that there are multiple sample sites across the DataFrame.\n",
    "\n",
    "<p></p>We can combine the dates and times into a single datetime value.<p>\n",
    "    \n",
    "We can also specify the sample sites we want to look at, or take averages across a county or the whole state.<p>Either way, we'll need to prepare the data.</p>\n",
    "</div>"
   ]
  },
  {
   "cell_type": "markdown",
   "metadata": {},
   "source": [
    "---"
   ]
  },
  {
   "cell_type": "markdown",
   "metadata": {
    "tags": []
   },
   "source": [
    "## Preparing the data for visualization\n",
    "\n",
    "Let's utilize some of Pandas features to generate a more manageable DataFrame for plotting."
   ]
  },
  {
   "cell_type": "markdown",
   "metadata": {
    "tags": []
   },
   "source": [
    "##### First, let's select only one specific county--Albany\n",
    "\n",
    "<div class=\"admonition alert alert-warning\">\n",
    "    <p class=\"admonition-title\" style=\"font-weight:bold\">Warning</p>\n",
    "    Not every county samples every type of pollutant!\n",
    "</div>\n"
   ]
  },
  {
   "cell_type": "code",
   "execution_count": null,
   "metadata": {
    "tags": []
   },
   "outputs": [],
   "source": [
    "O3alb = ozone.loc[ozone['county'] == 'Albany', ['date_local', 'time_local', 'sample_measurement', 'units_of_measure', 'site_number', 'latitude', 'longitude']]"
   ]
  },
  {
   "cell_type": "code",
   "execution_count": null,
   "metadata": {
    "tags": []
   },
   "outputs": [],
   "source": [
    "O3alb"
   ]
  },
  {
   "cell_type": "markdown",
   "metadata": {},
   "source": [
    "<div class=\"admonition alert alert-warning\">\n",
    "    <p class=\"admonition-title\" style=\"font-weight:bold\">Warning</p>\n",
    "    Something is a bit off, here. We see that the datetimes are mostly, but not entirely in order.\n",
    "</div>"
   ]
  },
  {
   "cell_type": "markdown",
   "metadata": {},
   "source": [
    "Let's make sure our new DataFrame for Albany is properly chronological."
   ]
  },
  {
   "cell_type": "code",
   "execution_count": null,
   "metadata": {
    "tags": []
   },
   "outputs": [],
   "source": [
    "O3alb['datetime'] = pd.to_datetime(O3alb['date_local'] + ' ' + O3alb['time_local'])\n",
    "O3alb = O3alb.sort_values(by='datetime')"
   ]
  },
  {
   "cell_type": "code",
   "execution_count": null,
   "metadata": {
    "tags": []
   },
   "outputs": [],
   "source": [
    "O3alb.datetime"
   ]
  },
  {
   "cell_type": "markdown",
   "metadata": {
    "tags": []
   },
   "source": [
    "Now we should be able to plot a basic ozone time-series for Albany, NY that covers the month of this month for last year."
   ]
  },
  {
   "cell_type": "markdown",
   "metadata": {},
   "source": [
    "---"
   ]
  },
  {
   "cell_type": "markdown",
   "metadata": {
    "tags": []
   },
   "source": [
    "## Generating a time-series plot"
   ]
  },
  {
   "cell_type": "code",
   "execution_count": null,
   "metadata": {
    "tags": []
   },
   "outputs": [],
   "source": [
    "plt.plot(O3alb.datetime, O3alb['sample_measurement'])"
   ]
  },
  {
   "cell_type": "markdown",
   "metadata": {},
   "source": [
    "<div class=\"admonition alert alert-success\">\n",
    "    <p class=\"admonition-title\" style=\"font-weight:bold\">Success</p>\n",
    "    We have a time-series! Now let's polish it up a bit...\n",
    "</div>"
   ]
  },
  {
   "cell_type": "code",
   "execution_count": null,
   "metadata": {
    "tags": []
   },
   "outputs": [],
   "source": [
    "# Design the figure\n",
    "fig, ax = plt.subplots(figsize = (20,10))\n",
    "\n",
    "# Give it a title\n",
    "plt.title(f'Ozone Concentration\\n Albany, NY - {month}/{year-1}', fontsize = 20)\n",
    "\n",
    "# Plot the data\n",
    "ax.plot(O3alb.datetime, O3alb['sample_measurement'])\n",
    "\n",
    "# Title the axes\n",
    "ax.set_xlabel('Date', labelpad = 20, fontsize = 16)\n",
    "ax.set_ylabel('[O$_{3}$] (ppm)', labelpad = 20, fontsize = 16)\n",
    "\n",
    "# Set major x-ticks for midnight (00h)\n",
    "x_major = O3alb['datetime'][O3alb['datetime'].dt.hour == 0]\n",
    "ax.set_xticks(x_major)\n",
    "\n",
    "# Set minor ticks at every 6 hours\n",
    "x_minor = pd.date_range(start= O3alb['datetime'].min(), end= O3alb['datetime'].max(), freq='6H')\n",
    "ax.set_xticks(x_minor, minor=True)\n",
    "\n",
    "# Clean up the date label so it doesn't show the year or minutes\n",
    "formatted_labels = [x.strftime('%m-%d %H') + 'h' for x in x_major]\n",
    "ax.set_xticklabels(formatted_labels, rotation=90, fontsize = 14)\n",
    "\n",
    "# Add minor ticks to the y-axis\n",
    "y_minor = np.arange(0, 0.06, 0.002)\n",
    "ax.set_yticks(y_minor, minor = True)\n",
    "\n",
    "# Fix the fontsize for the y-tick labels\n",
    "ax.tick_params(axis='y', labelsize=14)\n",
    "\n",
    "plt.show()"
   ]
  },
  {
   "cell_type": "markdown",
   "metadata": {},
   "source": [
    "We can also add a new data points to compare (e.g., NO<sub>2</sub>)"
   ]
  },
  {
   "cell_type": "code",
   "execution_count": null,
   "metadata": {
    "tags": []
   },
   "outputs": [],
   "source": [
    "NO2_data = aqs.bystate.sampledata(parameter= NO2, bdate = date(year=year-1, month=month, day = start), edate = date(year=year-1, month=month, day = end), stateFIPS=NY)"
   ]
  },
  {
   "cell_type": "code",
   "execution_count": null,
   "metadata": {
    "tags": []
   },
   "outputs": [],
   "source": [
    "NO2_data['county'].unique()"
   ]
  },
  {
   "cell_type": "markdown",
   "metadata": {},
   "source": [
    "<div class=\"admonition alert alert-danger\">\n",
    "    <p class=\"admonition-title\" style=\"font-weight:bold\">ALBANY?!</p>\n",
    "    Albany doesn't seem to display data for NO<sub>2</sub>.<p>\n",
    "    You're welcome to check on your own for another pollutant to compare, but we'll shift to another county that covers both O<sub>3</sub> and NO<sub>2</sub>.\n",
    "</div>"
   ]
  },
  {
   "cell_type": "code",
   "execution_count": null,
   "metadata": {
    "tags": []
   },
   "outputs": [],
   "source": [
    "ozone['county'].unique()"
   ]
  },
  {
   "cell_type": "markdown",
   "metadata": {},
   "source": [
    "The Bronx seems like a good county to work with for the purposes of this Notebook."
   ]
  },
  {
   "cell_type": "code",
   "execution_count": null,
   "metadata": {
    "tags": []
   },
   "outputs": [],
   "source": [
    "bronxNO2 = NO2_data.loc[NO2_data['county'] == 'Bronx', ['date_local', 'time_local', 'sample_measurement', 'units_of_measure', 'site_number', 'latitude', 'longitude']]\n",
    "bronxO3 = ozone.loc[ozone['county'] == 'Bronx', ['date_local', 'time_local', 'sample_measurement', 'units_of_measure', 'site_number', 'latitude', 'longitude']]"
   ]
  },
  {
   "cell_type": "code",
   "execution_count": null,
   "metadata": {
    "tags": []
   },
   "outputs": [],
   "source": [
    "print(bronxO3)\n",
    "print(bronxNO2)"
   ]
  },
  {
   "cell_type": "markdown",
   "metadata": {},
   "source": [
    "We've seen that both data are present for Bronx County."
   ]
  },
  {
   "cell_type": "markdown",
   "metadata": {},
   "source": [
    "Again, let's make sure our new DataFrames are properly chronological."
   ]
  },
  {
   "cell_type": "code",
   "execution_count": null,
   "metadata": {
    "tags": []
   },
   "outputs": [],
   "source": [
    "bronxO3['datetime'] = pd.to_datetime(bronxO3['date_local'] + ' ' + bronxO3['time_local'])\n",
    "bronxO3 = bronxO3.sort_values(by='datetime')\n",
    "\n",
    "bronxNO2['datetime'] = pd.to_datetime(bronxNO2['date_local'] + ' ' + bronxNO2['time_local'])\n",
    "bronxNO2 = bronxNO2.sort_values(by='datetime')\n"
   ]
  },
  {
   "cell_type": "markdown",
   "metadata": {},
   "source": [
    "### Now we'll plot both data together."
   ]
  },
  {
   "cell_type": "code",
   "execution_count": null,
   "metadata": {
    "tags": []
   },
   "outputs": [],
   "source": [
    "# Design the figure\n",
    "fig, ax = plt.subplots(figsize = (20,10))\n",
    "\n",
    "# Give it a title\n",
    "plt.title(f'Air Pollution Concentrations\\n Bronx County, NY - {month}/{year-1}', fontsize = 20)\n",
    "\n",
    "# Plot the data\n",
    "ax.plot(bronxO3.datetime, bronxO3['sample_measurement'], label = 'O$_{3}$', color = 'cornflowerblue')\n",
    "\n",
    "# Title the axes\n",
    "ax.set_xlabel('Date', labelpad = 20, fontsize = 16)\n",
    "ax.set_ylabel('[O$_{3}$] (ppm)', labelpad = 20, fontsize = 16)\n",
    "\n",
    "# Set major x-ticks for midnight (00h)\n",
    "x_major = bronxO3['datetime'][bronxO3['datetime'].dt.hour == 0]\n",
    "ax.set_xticks(x_major)\n",
    "\n",
    "# Set minor ticks at every 6 hours\n",
    "x_minor = pd.date_range(start= bronxO3['datetime'].min(), end= bronxO3['datetime'].max(), freq='6H')\n",
    "ax.set_xticks(x_minor, minor=True)\n",
    "\n",
    "# Clean up the date label so it doesn't show the year or minutes\n",
    "formatted_labels = [x.strftime('%m-%d %H') + 'h' for x in x_major]\n",
    "ax.set_xticklabels(formatted_labels, rotation=90, fontsize = 14)\n",
    "\n",
    "# Add minor ticks to the y-axis\n",
    "y_minor = np.arange(0, 0.06, 0.002)\n",
    "ax.set_yticks(y_minor, minor = True)\n",
    "\n",
    "# Fix the fontsize for the y-tick labels\n",
    "ax.tick_params(axis='y', labelsize=14)\n",
    "\n",
    "# Create a secondary y-axis\n",
    "ax2 = ax.twinx()\n",
    "\n",
    "# Plot NO2 data alongside O3 data\n",
    "ax2.plot(bronxNO2['datetime'], bronxNO2['sample_measurement'], label='NO$_{2}$', color = 'gray')\n",
    "\n",
    "# Add title to new y-axis\n",
    "ax2.set_ylabel('[NO$_{2}$] (ppm)', labelpad=20, fontsize=16)\n",
    "\n",
    "# Add minor ticks to the secondary y-axis\n",
    "y2_minor = np.arange(0, 55, 2)\n",
    "ax2.set_yticks(y2_minor, minor=True)\n",
    "\n",
    "# Match fontsize for y-axes\n",
    "ax2.tick_params(axis='y', labelsize=14)\n",
    "\n",
    "# Combine both plot labels into a single legend\n",
    "handles, labels = ax.get_legend_handles_labels()\n",
    "handles2, labels2 = ax2.get_legend_handles_labels()\n",
    "\n",
    "plt.legend(handles + handles2, labels + labels2, loc='best', fontsize=18)\n",
    "\n",
    "plt.show()"
   ]
  },
  {
   "cell_type": "markdown",
   "metadata": {},
   "source": [
    "<div class=\"admonition alert alert-success\">\n",
    "    <p class=\"admonition-title\" style=\"font-weight:bold\">Success</p>\n",
    "    We've been able to pull data from the AQS and plot a time-series!\n",
    "</div>"
   ]
  },
  {
   "cell_type": "markdown",
   "metadata": {},
   "source": [
    "---"
   ]
  },
  {
   "cell_type": "markdown",
   "metadata": {},
   "source": [
    "### Let's take a quick look at how you can pull data based on a map extent, and then we'll close out this notebook."
   ]
  },
  {
   "cell_type": "markdown",
   "metadata": {},
   "source": [
    "Let's start with the CONUS"
   ]
  },
  {
   "cell_type": "code",
   "execution_count": null,
   "metadata": {
    "tags": []
   },
   "outputs": [],
   "source": [
    "lonW = '-130'\n",
    "lonE = '-62'\n",
    "latS = '20'\n",
    "latN = '55'"
   ]
  },
  {
   "cell_type": "code",
   "execution_count": null,
   "metadata": {
    "tags": []
   },
   "outputs": [],
   "source": [
    "print(aqs.bybox.sampledata(parameter= O3, bdate = date(year=year-1, month=month, day = day-1), \n",
    "                           edate = date(year=year-1, month=month, day = day), \n",
    "                           minlat = latS, maxlat = latN, minlon = lonW, maxlon = lonE))"
   ]
  },
  {
   "cell_type": "markdown",
   "metadata": {},
   "source": [
    "<div class=\"admonition alert alert-danger\">\n",
    "    <p class=\"admonition-title\" style=\"font-weight:bold\">Package Error</p>\n",
    "    There seems to be a bug in the underlying code that is causing the the url we're fetching the data with to use 'minlon' for 'minlat'.<p>\n",
    "    <p>We can resolve this manually for now...\n",
    "</div>"
   ]
  },
  {
   "cell_type": "markdown",
   "metadata": {},
   "source": [
    "Recall that we've imported \"requests\" to handle this issue."
   ]
  },
  {
   "cell_type": "code",
   "execution_count": null,
   "metadata": {
    "tags": []
   },
   "outputs": [],
   "source": [
    "URL_byBox = f'https://aqs.epa.gov/data/api/sampleData/byBox?email={username}&key={key}&param=44201&bdate=20221127&edate=20221128&minlat={latS}&maxlat={latN}&minlon={lonW}&maxlon={lonE}'"
   ]
  },
  {
   "cell_type": "code",
   "execution_count": null,
   "metadata": {
    "tags": []
   },
   "outputs": [],
   "source": [
    "response = requests.get(URL_byBox)\n",
    "response.raise_for_status()\n",
    "data = response.json()\n",
    "CONUS = pd.json_normalize(data['Data'])\n",
    "CONUS"
   ]
  },
  {
   "cell_type": "markdown",
   "metadata": {},
   "source": [
    "We can also use the extent parameters for New York State."
   ]
  },
  {
   "cell_type": "code",
   "execution_count": null,
   "metadata": {
    "tags": []
   },
   "outputs": [],
   "source": [
    "NY_E = -71\n",
    "NY_W = -81.0\n",
    "NY_N = 46\n",
    "NY_S = 40"
   ]
  },
  {
   "cell_type": "code",
   "execution_count": null,
   "metadata": {
    "tags": []
   },
   "outputs": [],
   "source": [
    "NY_byBox = f'https://aqs.epa.gov/data/api/sampleData/byBox?email={username}&key={key}&param=44201&bdate=20221127&edate=20221128&minlat={NY_S}&maxlat={NY_N}&minlon={NY_W}&maxlon={NY_E}'\n",
    "\n",
    "response = requests.get(NY_byBox)\n",
    "response.raise_for_status()\n",
    "data = response.json()\n",
    "NYS = pd.json_normalize(data['Data'])\n",
    "NYS"
   ]
  },
  {
   "cell_type": "markdown",
   "metadata": {},
   "source": [
    "<div class=\"admonition alert alert-success\">\n",
    "    <p class=\"admonition-title\" style=\"font-weight:bold\">Success</p>\n",
    "    We've successfully fetched data from the AQS by areal extent for both the CONUS and for NYS!\n",
    "</div>\n",
    "\n",
    "<div class=\"admonition alert alert-warning\">\n",
    "    <p class=\"admonition-title\" style=\"font-weight:bold\">NOTE</p>\n",
    "    If you want to only use data for within the state, be sure to filter the new DataFrame to ommit data points from other states that overlap your areal extent.\n",
    "</div>"
   ]
  },
  {
   "cell_type": "markdown",
   "metadata": {},
   "source": [
    "---"
   ]
  },
  {
   "cell_type": "markdown",
   "metadata": {},
   "source": [
    "## Summary\n",
    "In this notebook, we've \n",
    "- managed to access air pollution data from the EPA's AQS\n",
    "- looked at different ways to fetch the data\n",
    "- looked at different types of data available\n",
    "- prepared the data for plotting\n",
    "- generated time-series plots of air pollution data\n",
    "\n",
    "#### What's next?\n",
    "Next we will explore how to improve the timeseries and possibly make it interactive.\n",
    "(A link to Notebook 2 would be nice here.)\n",
    "\n",
    "<b>You are encouraged to utilize pandas and numpy functions to try play around with ways to manipulate and analyze these data!</b>"
   ]
  },
  {
   "cell_type": "markdown",
   "metadata": {},
   "source": [
    "## Resources and references\n",
    "\n",
    "Documentation for pyaqsapi: https://usepa.github.io/pyaqsapi/pyaqsapi.html\n",
    "\n",
    "More information about the pyaqsapi package (developed by Clinton McCrowey, EPA Region 3) can be found on GitHub: https://github.com/USEPA/pyaqsapi\n",
    "\n",
    "The EPA's AQS has general information and documentation here: https://www.epa.gov/aqs\n",
    "\n",
    "Details about the specific air pollution parameter numbers can be found here: https://aqs.epa.gov/aqsweb/documents/codetables/parameters.html\n",
    "\n",
    "To access real-time data for air pollution, the [AirNow API](https://docs.airnowapi.org/) can be utilized.\n",
    "\n",
    "Thanks to Daniel Garver (EPA Region 4) for help locating the AQS API, and for directing the authors of this Cookbook to the appropriate resources.\n",
    "\n",
    "---\n",
    "\n",
    "##### Information about the author: [Adam Deitsch](https://amdeitsch.github.io/)\n"
   ]
  }
 ],
 "metadata": {
  "kernelspec": {
   "display_name": "Air Quality Environment",
   "language": "python",
   "name": "aq"
  },
  "language_info": {
   "codemirror_mode": {
    "name": "ipython",
    "version": 3
   },
   "file_extension": ".py",
   "mimetype": "text/x-python",
   "name": "python",
   "nbconvert_exporter": "python",
   "pygments_lexer": "ipython3",
   "version": "3.12.0"
  },
  "nbdime-conflicts": {
   "local_diff": [
    {
     "diff": [
      {
       "diff": [
        {
         "key": 0,
         "op": "addrange",
         "valuelist": [
          "Python 3"
         ]
        },
        {
         "key": 0,
         "length": 1,
         "op": "removerange"
        }
       ],
       "key": "display_name",
       "op": "patch"
      }
     ],
     "key": "kernelspec",
     "op": "patch"
    }
   ],
   "remote_diff": [
    {
     "diff": [
      {
       "diff": [
        {
         "key": 0,
         "op": "addrange",
         "valuelist": [
          "Python3"
         ]
        },
        {
         "key": 0,
         "length": 1,
         "op": "removerange"
        }
       ],
       "key": "display_name",
       "op": "patch"
      }
     ],
     "key": "kernelspec",
     "op": "patch"
    }
   ]
  },
  "toc-autonumbering": false
 },
 "nbformat": 4,
 "nbformat_minor": 4
}
